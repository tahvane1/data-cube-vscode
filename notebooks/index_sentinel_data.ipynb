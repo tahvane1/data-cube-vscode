{
 "metadata": {
  "language_info": {
   "codemirror_mode": {
    "name": "ipython",
    "version": 3
   },
   "file_extension": ".py",
   "mimetype": "text/x-python",
   "name": "python",
   "nbconvert_exporter": "python",
   "pygments_lexer": "ipython3",
   "version": "3.6.9-final"
  },
  "orig_nbformat": 2,
  "kernelspec": {
   "name": "python369jvsc74a57bd0a415913ca91a22a70653d9c0db4bbec793948985fa9bed062ca17ee46eb61a90",
   "display_name": "Python 3.6.9 64-bit"
  }
 },
 "nbformat": 4,
 "nbformat_minor": 2,
 "cells": [
  {
   "cell_type": "code",
   "execution_count": null,
   "metadata": {},
   "outputs": [],
   "source": [
    "import os\n",
    "import calendar\n",
    "import datacube\n",
    "from odc.apps.dc_tools.stac_api_to_dc import stac_api_to_odc\n",
    "import logging\n",
    "logger = logging.getLogger()\n",
    "logger.setLevel(logging.INFO)"
   ]
  },
  {
   "cell_type": "code",
   "execution_count": null,
   "metadata": {},
   "outputs": [],
   "source": [
    "bbox = [20.6455928891, 59.846373196, 31.5160921567, 70.1641930203]\n",
    "STAC_API_URL = 'https://earth-search.aws.element84.com/v0/'\n",
    "dc = datacube.Datacube()"
   ]
  },
  {
   "cell_type": "code",
   "execution_count": null,
   "metadata": {
    "tags": []
   },
   "outputs": [],
   "source": [
    "for year in [2017]:\n",
    "    for month in range(1,13):\n",
    "        start_date = f'{year}-{month:02}-01'\n",
    "        end_date = f'{year}-{month:02}-{calendar.monthrange(year, month)[1]}'\n",
    "\n",
    "        collections = ['sentinel-s2-l2a-cogs']\n",
    "\n",
    "        config = {\n",
    "            'url': STAC_API_URL,\n",
    "            'collections': collections,\n",
    "            'bbox': bbox,\n",
    "            'datetime': f\"{start_date}/{end_date}\"\n",
    "        }\n",
    "\n",
    "        #    dc: Datacube,    products: list,    limit: int,    update: bool,    allow_unsafe: bool,    config: dict,\n",
    "        indexed, failed = stac_api_to_odc(dc, 's2_l2a', 10000, False, False, config)\n",
    "        print(f\"Indexed {indexed} items with {failed} failures.\")"
   ]
  },
  {
   "source": [
    "print()\n"
   ],
   "cell_type": "code",
   "metadata": {},
   "execution_count": null,
   "outputs": []
  }
 ]
}
{
 "metadata": {
  "language_info": {
   "codemirror_mode": {
    "name": "ipython",
    "version": 3
   },
   "file_extension": ".py",
   "mimetype": "text/x-python",
   "name": "python",
   "nbconvert_exporter": "python",
   "pygments_lexer": "ipython3",
   "version": "3.6.9-final"
  },
  "orig_nbformat": 2,
  "kernelspec": {
   "name": "python369jvsc74a57bd0a415913ca91a22a70653d9c0db4bbec793948985fa9bed062ca17ee46eb61a90",
   "display_name": "Python 3.6.9 64-bit"
  }
 },
 "nbformat": 4,
 "nbformat_minor": 2,
 "cells": [
  {
   "cell_type": "code",
   "execution_count": 1,
   "metadata": {},
   "outputs": [
    {
     "output_type": "stream",
     "name": "stdout",
     "text": [
      "2021-04-14 17:51:26,941 3599 datacube \u001b[37mINFO\u001b[0m Running datacube command: /env/bin/datacube -v system init\n",
      "/env/lib/python3.6/site-packages/datacube/drivers/postgres/_connections.py:84: SADeprecationWarning: Calling URL() directly is deprecated and will be disabled in a future release.  The public constructor for URL is now the URL.create() method.\n",
      "  username=username, password=password,\n",
      "Initialising database...\n",
      "2021-04-14 17:51:27,346 3599 datacube.drivers.postgres._core \u001b[37mINFO\u001b[0m Ensuring user roles.\n",
      "2021-04-14 17:51:27,357 3599 datacube.drivers.postgres._core \u001b[37mINFO\u001b[0m Creating schema.\n",
      "2021-04-14 17:51:27,358 3599 datacube.drivers.postgres._core \u001b[37mINFO\u001b[0m Creating tables.\n",
      "2021-04-14 17:51:27,422 3599 datacube.drivers.postgres._core \u001b[37mINFO\u001b[0m Creating triggers.\n",
      "2021-04-14 17:51:27,425 3599 datacube.drivers.postgres._core \u001b[37mINFO\u001b[0m Creating added column.\n",
      "2021-04-14 17:51:27,428 3599 datacube.drivers.postgres._core \u001b[37mINFO\u001b[0m Adding role grants.\n",
      "2021-04-14 17:51:27,431 3599 datacube.index.index \u001b[37mINFO\u001b[0m Adding default metadata types.\n",
      "\u001b[1mCreated.\u001b[0m\n",
      "Checking indexes/views.\n",
      "2021-04-14 17:51:27,549 3599 datacube.drivers.postgres._api \u001b[37mINFO\u001b[0m Checking dynamic views/indexes. (rebuild views=True, indexes=False)\n",
      "Done.\n"
     ]
    }
   ],
   "source": [
    "!datacube -v system init"
   ]
  },
  {
   "cell_type": "code",
   "execution_count": 2,
   "metadata": {},
   "outputs": [
    {
     "output_type": "stream",
     "name": "stdout",
     "text": [
      "/env/lib/python3.6/site-packages/datacube/drivers/postgres/_connections.py:84: SADeprecationWarning: Calling URL() directly is deprecated and will be disabled in a future release.  The public constructor for URL is now the URL.create() method.\n",
      "  username=username, password=password,\n",
      "Adding \"s2_l2a\" (this might take a while) DONE\n"
     ]
    }
   ],
   "source": [
    "!datacube product add https://raw.githubusercontent.com/digitalearthafrica/config/master/products/esa_s2_l2a.odc-product.yaml"
   ]
  }
 ]
}